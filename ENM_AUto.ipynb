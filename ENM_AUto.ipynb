{
  "nbformat": 4,
  "nbformat_minor": 0,
  "metadata": {
    "colab": {
      "provenance": [],
      "authorship_tag": "ABX9TyMPcezEVChdbNvhdXXr10VX",
      "include_colab_link": true
    },
    "kernelspec": {
      "name": "python3",
      "display_name": "Python 3"
    },
    "language_info": {
      "name": "python"
    }
  },
  "cells": [
    {
      "cell_type": "markdown",
      "metadata": {
        "id": "view-in-github",
        "colab_type": "text"
      },
      "source": [
        "<a href=\"https://colab.research.google.com/github/Sword2yk/AWS-Boot-Camp-v2/blob/main/ENM_AUto.ipynb\" target=\"_parent\"><img src=\"https://colab.research.google.com/assets/colab-badge.svg\" alt=\"Open In Colab\"/></a>"
      ]
    },
    {
      "cell_type": "code",
      "execution_count": null,
      "metadata": {
        "id": "OoFGq9Z5byWs"
      },
      "outputs": [],
      "source": [
        "import enmscripting                   #import the scripting module\n",
        "enmurl=https://enmsystem1.ericsson.se #specify the ENM launcher URL\n",
        "enmuser=\"scriptuser\"                  #specify the ENM user\n",
        "enmpassword=\"MyLoginPwd\"              #user password\n",
        "session = enmscripting.open([ENMURL]).with_credentials(enmscripting.UsernameAndPassword([ENMUSER,ENMPASSWORD]))\n",
        "command = 'cmedit get * NetworkElement' #the ENM command to list all the NEs\n",
        "terminal = session.terminal()         #open a terminal in session to ENM\n",
        "response=terminal.execute(command)    #execute command and store result in response\n",
        "for element in reponse.get_output():  #process the output\n",
        "\tprint(element)                      #print every line of the list\n",
        "enmscripting.close(session)           #close the session, logout from ENM"
      ]
    },
    {
      "cell_type": "code",
      "source": [
        "from __future__ import print_function\n",
        "import enmscripting\n",
        "\n",
        "enmurl=\"\"\n",
        "enmuser=\"\"\n",
        "enmpassword=\"\"\n",
        "\n",
        "command = ''\n",
        "\n",
        "session = enmscripting.open(enmurl, enmuser, enmpassword)\n",
        "\n",
        "terminal = terminal.execute(command)\n",
        "\n",
        "for row in response.get_out_output():\n",
        "  if \"=\" in row:\n",
        "      splitted_row_a = row.split(\"=\")\n",
        "      splitted_row_b = splitted_row_a[1].split(\",\")\n",
        "      nodename=splitted_row_b[0]\n",
        "  if \"ipAddress\" in row:\n",
        "      ipsplit = row.split(\"ipAddress :\")\n",
        "      ipaddress = ipsplit[1]\n",
        "      print (\"IP address for {0:30}: {1:50}\".format(nodename, ipaddress))\n",
        "\n",
        "enmscripting.close(session)"
      ],
      "metadata": {
        "id": "_pkQU3Svg8Tk"
      },
      "execution_count": null,
      "outputs": []
    }
  ]
}