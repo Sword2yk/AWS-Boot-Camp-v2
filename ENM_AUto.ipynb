{
  "nbformat": 4,
  "nbformat_minor": 0,
  "metadata": {
    "colab": {
      "provenance": [],
      "toc_visible": true,
      "authorship_tag": "ABX9TyMNRWYsEO3gOoBZCwbiRqUB",
      "include_colab_link": true
    },
    "kernelspec": {
      "name": "python3",
      "display_name": "Python 3"
    },
    "language_info": {
      "name": "python"
    }
  },
  "cells": [
    {
      "cell_type": "markdown",
      "metadata": {
        "id": "view-in-github",
        "colab_type": "text"
      },
      "source": [
        "<a href=\"https://colab.research.google.com/github/Sword2yk/AWS-Boot-Camp-v2/blob/main/ENM_AUto.ipynb\" target=\"_parent\"><img src=\"https://colab.research.google.com/assets/colab-badge.svg\" alt=\"Open In Colab\"/></a>"
      ]
    },
    {
      "cell_type": "code",
      "execution_count": null,
      "metadata": {
        "id": "OoFGq9Z5byWs"
      },
      "outputs": [],
      "source": [
        "import enmscripting                   #import the scripting module\n",
        "Enmurl=https://enmsystem1.ericsson.se #specify the ENM launcher URL\n",
        "Enmuser=\"scriptuser\"                  #specify the ENM user\n",
        "Enmpassword=\"MyLoginPwd\"              #user password\n",
        "Session = enmscripting.open([ENMURL]).with_credentials(enmscripting.UsernameAndPassword([ENMUSER,ENMPASSWORD]))\n",
        "Command = 'cmedit get * NetworkElement'\n",
        "Terminal = session.terminal()\n",
        "Response=terminal.execute(command)\n",
        "For element in reponse.get_output(): #process the output\n",
        "\tPrint(element)\n",
        "Enmscripting.close(session)"
      ]
    }
  ]
}